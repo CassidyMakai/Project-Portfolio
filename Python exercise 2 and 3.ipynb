{
 "cells": [
  {
   "cell_type": "markdown",
   "id": "2d19f6f3",
   "metadata": {},
   "source": [
    "<b> 02 and 03 Exercises </b>"
   ]
  },
  {
   "cell_type": "markdown",
   "id": "fc841134",
   "metadata": {},
   "source": [
    "<b> 02 Exercises - Data Structures <b>"
   ]
  },
  {
   "cell_type": "markdown",
   "id": "62ff64de",
   "metadata": {},
   "source": [
    "Take the following two lists. Create a third list by picking a odd-index elements from the first list and even-index elements from the second.\n",
    "\n",
    "listOne = [3, 6, 9, 12, 15, 18, 21]\n",
    "listTwo = [4, 8, 12, 16, 20, 24, 28]"
   ]
  },
  {
   "cell_type": "code",
   "execution_count": 25,
   "id": "7554ca94",
   "metadata": {},
   "outputs": [
    {
     "name": "stdout",
     "output_type": "stream",
     "text": [
      "([3, 9, 15, 21], [4, 8, 12, 16, 20, 24, 28])\n"
     ]
    }
   ],
   "source": [
    "listOne = [3, 6, 9, 12, 15, 18, 21]\n",
    "# print(listOne)\n",
    "# listOne [::2]\n",
    "listTwo = [4, 8, 12, 16, 20, 24, 28]\n",
    "listThree = listOne[::2], listTwo\n",
    "#Y=listTwo\n",
    "print(listThree)\n",
    "#listThree = [3, 9, 15, 21]\n",
    "#creating list three which includes odd-index elements from the first and even index from the second\n"
   ]
  },
  {
   "cell_type": "markdown",
   "id": "6ab75264",
   "metadata": {},
   "source": [
    "Take the following list. Slice it into three equal chunks and reverse each list.\n",
    "\n",
    "sampleList = [11, 45, 8, 23, 14, 12, 78, 45, 89]"
   ]
  },
  {
   "cell_type": "code",
   "execution_count": 24,
   "id": "9f89b102",
   "metadata": {},
   "outputs": [
    {
     "name": "stdout",
     "output_type": "stream",
     "text": [
      "[11, 45, 8]\n",
      "[23, 14, 12]\n",
      "[78, 45, 89]\n",
      "[11, 45, 8] [23, 14, 12] [78, 45, 89]\n",
      "[8, 45, 11]\n",
      "[12, 14, 23]\n",
      "[89, 45, 78]\n",
      "[8, 45, 11] [12, 14, 23] [89, 45, 78]\n"
     ]
    }
   ],
   "source": [
    "L= [11, 45, 8, 23, 14, 12, 78, 45, 89]\n",
    "x= L [0:3]\n",
    "print(x)\n",
    "#x.reverse()\n",
    "#print(x)\n",
    "y= L [3:6]\n",
    "print(y)\n",
    "#y.reverse()\n",
    "#print(y)\n",
    "z= L[6:9]\n",
    "print(z)\n",
    "#z.reverse()\n",
    "#print(z)\n",
    "#defined each slice and reverse them seperately but decided to reverse at the end in order to fully fulfill the prompt\n",
    "print(x,y,z)\n",
    "x.reverse()\n",
    "print(x)\n",
    "y.reverse()\n",
    "print(y)\n",
    "z.reverse()\n",
    "print(z)\n",
    "print (x,y,z)"
   ]
  },
  {
   "cell_type": "markdown",
   "id": "eaa97400",
   "metadata": {},
   "source": [
    "Iterate through a given list and check if a given element already exists in a dictionary as a key’s value. If not, delete it from the list.\n",
    "\n",
    "rollNumber = [47, 64, 69, 37, 76, 83, 95, 97]\n",
    "sampleDict ={'Zach':47, 'Emma':69, 'Kelly':76, 'Jason':97}"
   ]
  },
  {
   "cell_type": "code",
   "execution_count": 23,
   "id": "6886451e",
   "metadata": {},
   "outputs": [
    {
     "name": "stdout",
     "output_type": "stream",
     "text": [
      "[47, 69, 76, 97]\n"
     ]
    }
   ],
   "source": [
    "# rewrite lists\n",
    "\n",
    "rollNumber = [47, 64, 69, 37, 76, 83, 95, 97]\n",
    "sampleDict = {'Zach': 47, 'Emma': 69, 'Kelly':76, 'Jason': 97}\n",
    "\n",
    "# ATTEMPT AT AN ANSWER BELOW\n",
    "#create a loop\n",
    "# n = [47, 64, 69, 37, 76, 83, 95, 97]\n",
    "#for x in [n]:\n",
    "  #  print (x)\n",
    "# find a way to remove sampleDict from rollNumber\n",
    "# i = [47, 69, 76, 97]\n",
    "# if i in [n]:\n",
    " #  n.remove(i)\n",
    "# print(n)\n",
    "\n",
    "#ANSWER BELOW\n",
    "i=0\n",
    "while i < len(rollNumber):\n",
    "    if rollNumber[i] in sampleDict.values():\n",
    "        i += 1\n",
    "    else:\n",
    "        del rollNumber[i]\n",
    "print (rollNumber)\n",
    "\n",
    "# isn't the answer supposed to delete what isn't in the lsit and give us that new list, but the answer gives us the numbers that are in both lists.\n"
   ]
  },
  {
   "cell_type": "markdown",
   "id": "b9249698",
   "metadata": {},
   "source": [
    "Write a simple statement to check whether an element exists within a tuple."
   ]
  },
  {
   "cell_type": "code",
   "execution_count": 58,
   "id": "73cc5416",
   "metadata": {},
   "outputs": [
    {
     "name": "stdout",
     "output_type": "stream",
     "text": [
      "True\n",
      "True\n",
      "False\n",
      "False\n"
     ]
    }
   ],
   "source": [
    "# creating a tuple to analyze\n",
    "t= (2, \"r\", 5, \"l\", 7, \"s\", 10, \"p\", 12)\n",
    "\n",
    "# using values within and out of the tuple to check for its presence in the tuple\n",
    "print (\"l\" in t)\n",
    "print (7 in t)\n",
    "print (\"c\" in t)\n",
    "print (14 in t)\n",
    "\n"
   ]
  },
  {
   "cell_type": "markdown",
   "id": "9c3672b7",
   "metadata": {},
   "source": [
    "Write a Python function to multiply all the numbers in a list."
   ]
  },
  {
   "cell_type": "code",
   "execution_count": 63,
   "id": "ff578435",
   "metadata": {},
   "outputs": [
    {
     "name": "stdout",
     "output_type": "stream",
     "text": [
      "[2, 4, 8, 5, 16, 7]\n",
      "35840\n"
     ]
    }
   ],
   "source": [
    "# create a list\n",
    "list = [2, 4, 8, 5, 16, 7]\n",
    "\n",
    "# create a function to multiply all numbers in list\n",
    "def multiply_numbers(list):\n",
    "    prod = 1\n",
    "    for i in list:\n",
    "        prod = prod * i\n",
    "    return prod\n",
    "print (list)\n",
    "print (multiply_numbers(list))"
   ]
  },
  {
   "cell_type": "markdown",
   "id": "646b97a3",
   "metadata": {},
   "source": [
    "Write a Python program to reverse a string. Hint: Use indexing [start:stop:step]"
   ]
  },
  {
   "cell_type": "code",
   "execution_count": 71,
   "id": "5e35d7ac",
   "metadata": {},
   "outputs": [
    {
     "name": "stdout",
     "output_type": "stream",
     "text": [
      "The original string is : Cairo's mom\n",
      "The reversed string (using reversed) is : mom s'oriaC\n"
     ]
    }
   ],
   "source": [
    "# defining the function\n",
    "def reverse (string):\n",
    "    string = \"\".join(reversed(string))\n",
    "    return string\n",
    "# define string\n",
    "s = \"Cairo's mom\"\n",
    "\n",
    "\n",
    "print (\"The original string is : \" , end=\"\")\n",
    "print (s)\n",
    "print (\"The reversed string (using reversed) is : \", end=\"\")\n",
    "print (reverse(s))"
   ]
  },
  {
   "cell_type": "markdown",
   "id": "c825cadc",
   "metadata": {},
   "source": [
    "Describe the difference between floats, integers, and binarys. Bonus: Describe the difference between precision types (i.e float32 and float64) and the relationship it has with system memory."
   ]
  },
  {
   "cell_type": "markdown",
   "id": "5f7be85c",
   "metadata": {},
   "source": [
    "Float is a function that converts values into floating point numbers. this means that the numbers that it produces are decimal values or fractional numbers. \n",
    "On the other hand, integers are real numbers with no decimal value.\n",
    "Binarys only utilize the integers 0 and 1.\n",
    "Float64 is double-precision'64-bit floats to numpy, while float32 is single-precision/ 32-bit floats. float32 reduces memory and cuts storage in half, storing a much smaller range of numbers with less precision than float64."
   ]
  },
  {
   "cell_type": "markdown",
   "id": "1105fac8",
   "metadata": {},
   "source": [
    "Describe the difference between a list, tuple, dict, and set."
   ]
  },
  {
   "cell_type": "markdown",
   "id": "43e7859b",
   "metadata": {},
   "source": [
    "Lists are used to store multiple items in a single variable (like sets, dictionaries, and tuples); written in square brackets. Tuple is a collection of data which is ordered, unchangeable, and written with round brackets. Tuple items are indexed and can allow duplicates. A set is a collection of data that is unchangeable, unordered and unindexed; written with curly brackets. Dictionaries are ordered, changeable and does not allow duplicated. They are written with curly brackets, have keys and values. "
   ]
  },
  {
   "cell_type": "markdown",
   "id": "85c3d93e",
   "metadata": {},
   "source": [
    "Describe 3 methods or functions that act upon a list, tuple, dict, and strings (12 total). If citing the same method, describe how it might behave differently between data."
   ]
  },
  {
   "cell_type": "markdown",
   "id": "9422d85e",
   "metadata": {},
   "source": [
    "list:\n",
    "sort() is utilized to sort the list in ascending order. \n",
    "append() adds a single element to a list\n",
    "len(list) gives the total length of the list\n",
    "\n",
    "tuple:\n",
    "len() provides the number of elements present in a tuple\n",
    "sorted() is a method that takes the tuple as an input and returns a sorted list as an output. \n",
    "count() helps to find the number of times an element appears within the tuple\n",
    "\n",
    "dict:\n",
    "fromkeys() creates a dictionary from the given sequence. \n",
    "items() returns the list with all dictionary keys with values\n",
    "get() returns the value for the given key\n",
    "\n",
    "string: \n",
    "split() is a method that splits a string into a list\n",
    "lower() creates a new string in lowercase\n",
    "replace() is used to create a new string by replacing some parts of another string"
   ]
  },
  {
   "cell_type": "markdown",
   "id": "8a435dab",
   "metadata": {},
   "source": [
    "<b> 03 Exercises - Control Flow <b>"
   ]
  },
  {
   "cell_type": "markdown",
   "id": "da83b7f2",
   "metadata": {},
   "source": [
    "Use a for-loop, iterate over a list, and print each item.\n",
    "\n",
    "list: [1,2,3,4,5,6,7,8,9]"
   ]
  },
  {
   "cell_type": "code",
   "execution_count": 72,
   "id": "4c789431",
   "metadata": {},
   "outputs": [
    {
     "name": "stdout",
     "output_type": "stream",
     "text": [
      "1\n",
      "2\n",
      "3\n",
      "4\n",
      "5\n",
      "6\n",
      "7\n",
      "8\n",
      "9\n"
     ]
    }
   ],
   "source": [
    "list = [1, 2, 3, 4, 5, 6, 7, 8, 9]\n",
    "for x in list:\n",
    "    print (x)"
   ]
  },
  {
   "cell_type": "markdown",
   "id": "4e0e9e7c",
   "metadata": {},
   "source": [
    "Using the last code you wrote, print whether the item is even or odd. Hint: Use an if-else sequence and modulus condition."
   ]
  },
  {
   "cell_type": "code",
   "execution_count": 6,
   "id": "84d6a899",
   "metadata": {},
   "outputs": [
    {
     "name": "stdout",
     "output_type": "stream",
     "text": [
      "1\n",
      "2\n",
      "3\n",
      "4\n",
      "5\n",
      "6\n",
      "7\n",
      "8\n",
      "9\n",
      "1 is odd.\n",
      "2 is even.\n",
      "3 is odd.\n",
      "4 is even.\n",
      "5 is odd.\n",
      "6 is even.\n",
      "7 is odd.\n",
      "8 is even.\n",
      "9 is odd.\n"
     ]
    }
   ],
   "source": [
    "list = [1, 2, 3, 4, 5, 6, 7, 8, 9]\n",
    "for x in list: \n",
    "    print (x)\n",
    "    \n",
    "#num = int (input(\"Enter any number to test whether it is odd or even:\"))\n",
    "#if (num % 2) == 0:\n",
    "    #print (\"The number is even\")\n",
    "#else: \n",
    "    #print (\"The number is odd\")\n",
    "#Output: Enter any number to test whether it is odd or even:\n",
    "#print (x)\n",
    "\n",
    "# second try, create function to determine odd/even numbers\n",
    "def print_parity (list):\n",
    "    for elem in list:\n",
    "        if elem % 2 == 0:\n",
    "            print (f\"{elem} is even.\")\n",
    "        else:\n",
    "            print (f\"{elem} is odd.\")\n",
    "print_parity ([1, 2, 3, 4, 5, 6, 7, 8, 9])\n"
   ]
  },
  {
   "cell_type": "markdown",
   "id": "277a4c8d",
   "metadata": {},
   "source": [
    "Using the last code you wrote, break out of the sequence when the for iteration count is greater than 7. "
   ]
  },
  {
   "cell_type": "code",
   "execution_count": 8,
   "id": "3ff4656d",
   "metadata": {},
   "outputs": [
    {
     "name": "stdout",
     "output_type": "stream",
     "text": [
      " 1 is odd.\n",
      " 2 is even.\n",
      " 3 is odd.\n",
      " 4 is even.\n",
      " 5 is odd.\n",
      " 6 is even.\n",
      " 7 is odd.\n",
      " 8 is even.\n"
     ]
    }
   ],
   "source": [
    "# to get the index and element at once, use enumerate function\n",
    "def print_parity(list):\n",
    "    for (i, elem) in enumerate (list):\n",
    "        if i > 7:\n",
    "            break\n",
    "        if elem % 2 == 0: \n",
    "            print (f\" {elem} is even.\")\n",
    "        else:\n",
    "            print (f\" {elem} is odd.\")\n",
    "print_parity ([1, 2, 3, 4, 5, 6, 7, 8, 9])\n",
    "#iteration count begins at 0 so it would be 8 spaces to get the answer\n"
   ]
  },
  {
   "cell_type": "markdown",
   "id": "9cb145d6",
   "metadata": {},
   "source": [
    "Write a python funcction that generates a random number 1-9, then requires the user to input a guess. if the guess is wrong, output \"wrong\" and request another input. you can also prompt the user if their guess should be higher or lower. if the guess is correct, output \"correct\". Hint: Look into the \"random\" function."
   ]
  },
  {
   "cell_type": "code",
   "execution_count": 16,
   "id": "c0ed71db",
   "metadata": {},
   "outputs": [
    {
     "name": "stdout",
     "output_type": "stream",
     "text": [
      "I picked a random number from 1-9. Try to take a guess!: 2\n",
      "You guessed correctly! Congrats! :)\n"
     ]
    }
   ],
   "source": [
    "#create function that outputs random number within the range 1-9\n",
    "# randrange(1-9) - doesnt work\n",
    "\n",
    "from random import randint\n",
    "def number_game():\n",
    "    chosen_num = randint (1, 9)\n",
    "    guess = int(input(\"I picked a random number from 1-9. Try to take a guess!: \"))\n",
    "    if guess == chosen_num:\n",
    "        return \"You guessed correctly! Congrats! :)\"\n",
    "    else:\n",
    "        return \"Sorry, you guessed incorrectly :( Better luck next time!\"\n",
    "# CALL THE FUNCTION AND PRINT RESULTS\n",
    "game_result = number_game()\n",
    "print (game_result)"
   ]
  },
  {
   "cell_type": "markdown",
   "id": "50163b68",
   "metadata": {},
   "source": [
    "Check the validity of password input by the user. It must pass these tests:\n",
    "\n",
    "Minimum of 1 letter between [a-z] and 1 letter between [A-Z]\n",
    "\n",
    "Minimum of 1 number between [0-9]\n",
    "\n",
    "Minimum of 1 character from [$#@]\n",
    "\n",
    "Minimum of 6 total characters\n",
    "\n",
    "Maximum of 16 characters"
   ]
  },
  {
   "cell_type": "code",
   "execution_count": 36,
   "id": "088a1972",
   "metadata": {},
   "outputs": [
    {
     "ename": "IndentationError",
     "evalue": "expected an indented block after 'for' statement on line 16 (3757973667.py, line 18)",
     "output_type": "error",
     "traceback": [
      "\u001b[1;36m  Cell \u001b[1;32mIn[36], line 18\u001b[1;36m\u001b[0m\n\u001b[1;33m    if (i in lowercase):\u001b[0m\n\u001b[1;37m                        ^\u001b[0m\n\u001b[1;31mIndentationError\u001b[0m\u001b[1;31m:\u001b[0m expected an indented block after 'for' statement on line 16\n"
     ]
    }
   ],
   "source": [
    "# password must pass these tests, check its validity\n",
    "# print (\"Create a password with at least one CAPITAL and one lowercase letter.\")\n",
    "# print (\"It must have a minimum of one number between [0-9] \")\n",
    "# print (\"It must include a character [$#@]\")\n",
    "# print (\"It must have a minimum of 6 characters and a maximum of 16\")\n",
    "\n",
    "l, c, d, s = 0, 0, 0, 0\n",
    "capital = \"ABCDEFGHIJKLMNOPQRSTUVWXYZ\"\n",
    "lowercase = \"abcdefghijklmnopqrstuvwxyz\"\n",
    "specialcharacters = \"!@#$%&^*_\"\n",
    "digits = \"0123456789\"\n",
    "password = input(\"Enter your password: {} \")\n",
    "\n",
    "#define length of password\n",
    "if (len(p) >= 6 and len(p)<= 16):\n",
    "    for i in p:\n",
    "#define number of lowercase letters\n",
    "if (i in lowercase):\n",
    "    l+=1\n",
    "#define number of capital letters\n",
    "if (i in capital):\n",
    "    c+=1\n",
    "#define number of digits\n",
    "if (i in digits):\n",
    "    d+=1\n",
    "#define number of special characters\n",
    "if (i in specialcharacters):\n",
    "    s+=1\n",
    "if (l>=1 and c>=1 and d>=1 and s>=1 and l+c+d+s==len(p)):\n",
    "    print (\"Valid password\")\n",
    "else:\n",
    "    print (\"Invalid password\")\n",
    "\n",
    "#set requirements then include area where they could enter password\n",
    "\n",
    "# kept getting indentation error and unsure of how to fix it no matter how many times i've tried"
   ]
  },
  {
   "cell_type": "markdown",
   "id": "57d4ce96",
   "metadata": {},
   "source": [
    "Get input of the age of 3 people by user and determine oldest and youngest among them"
   ]
  },
  {
   "cell_type": "code",
   "execution_count": 10,
   "id": "f8ebc6bb",
   "metadata": {},
   "outputs": [
    {
     "name": "stdout",
     "output_type": "stream",
     "text": [
      "Give me the three people's ages and I'll inform you of the youngest and oldest in the group.\n",
      "Enter the first person's age: 3\n",
      "Enter the second person's age: 50\n",
      "Enter the third person's age: 22\n",
      "The youngest person you selected is 3 years old.\n",
      "The oldest person you selected is 50 years old.\n"
     ]
    }
   ],
   "source": [
    "#create a script for the code\n",
    "print (\"Give me the three people's ages and I'll inform you of the youngest and oldest in the group.\")\n",
    "age1 = int(input(\"Enter the first person's age: \"))\n",
    "age2 = int(input(\"Enter the second person's age: \"))\n",
    "age3 = int(input(\"Enter the third person's age: \"))\n",
    "\n",
    "#now use min., max., to find out the oldest and youngest\n",
    "youngest = min (age1, age2, age3)\n",
    "oldest = max (age1, age2, age3)\n",
    "\n",
    "#now print your findings\n",
    "# f\" is used to create an f string and indicates the strings are being used for formatting \n",
    "print (f\"The youngest person you selected is {youngest} years old.\")\n",
    "print (f\"The oldest person you selected is {oldest} years old.\")\n",
    "\n",
    "\n"
   ]
  },
  {
   "cell_type": "markdown",
   "id": "49683521",
   "metadata": {},
   "source": [
    "A student will not be allowed to sit in exam if his/her attendance is less than 75%. Print percentage of class attended.\n",
    "\n",
    "Take following input from user: number of classes held, number of classes attended\n",
    "\n",
    "Is student is allowed to sit in exam or not?"
   ]
  },
  {
   "cell_type": "code",
   "execution_count": 12,
   "id": "6a713967",
   "metadata": {},
   "outputs": [
    {
     "name": "stdout",
     "output_type": "stream",
     "text": [
      "How many classes are being held?: 64\n",
      "How many clases has the student attended?: 52\n",
      "This student has attended 81.25% of classes. \n",
      "Amazing attendance! This student will be able to sit in the exam. \n"
     ]
    }
   ],
   "source": [
    "numberclasses = int(input(\"How many classes are being held?: \"))\n",
    "numberattended = int(input(\"How many clases has the student attended?: \"))\n",
    "percent = 100 * numberattended / numberclasses\n",
    "# in order for the answer to print as a percentage you have to divide the two variables and multiply it by 100\n",
    "print (f\"This student has attended {percent}% of classes. \")\n",
    "if percent < 75:\n",
    "    print (\"Unfortunately this student will be unable to sit in the exam.\")\n",
    "else:\n",
    "    print (\"Amazing attendance! This student will be able to sit in the exam. \")"
   ]
  },
  {
   "cell_type": "markdown",
   "id": "9809d83e",
   "metadata": {},
   "source": [
    "Get an integer N from the user and perform the following actions:\n",
    "\n",
    "if N is odd, print \"weird\"\n",
    "\n",
    "if N is even and in the inclusive range of 2 to 5, print \"Not Weird\"\n",
    "\n",
    "if N is even and in the inclusive range of 6 to 20, print \"Weird\"\n",
    "\n",
    "if N is even and greater than 20, print \"Not Weird\""
   ]
  },
  {
   "cell_type": "code",
   "execution_count": 18,
   "id": "5ae304c1",
   "metadata": {},
   "outputs": [
    {
     "name": "stdout",
     "output_type": "stream",
     "text": [
      "Pick any number and I'll be the judge of how weird it is: 16\n",
      "Weird.\n"
     ]
    }
   ],
   "source": [
    "n = int(input(\"Pick any number and I'll be the judge of how weird it is: \"))\n",
    "\n",
    "# determine what numbers would be considered weird or not\n",
    "# odd numbers are weird\n",
    "if n % 2 == 1:\n",
    "    print (\"Weird.\")\n",
    "# if n is even and in the range of 2-5 then its not weird\n",
    "elif 2 <= n <= 5:\n",
    "    print(\"Not weird.\")\n",
    "#if n is even but within the range of 6-20, its weird\n",
    "elif 6 <= n <= 20:\n",
    "    print (\"Weird.\")\n",
    "# if n is even and greater than 20, its not weird but use else function bc it reaches the condition where the number inevitable must be even and greater than 20 due to previous functions\n",
    "else:\n",
    "    print(\"Not weird.\")"
   ]
  },
  {
   "cell_type": "markdown",
   "id": "4981afa6",
   "metadata": {},
   "source": [
    "Define \"recursion\""
   ]
  },
  {
   "cell_type": "markdown",
   "id": "e80d380f",
   "metadata": {},
   "source": [
    "Recursion is the process of defining something in terms of itself. "
   ]
  },
  {
   "cell_type": "markdown",
   "id": "37446795",
   "metadata": {},
   "source": [
    "Describe the difference between a for-loop and while-loop"
   ]
  },
  {
   "cell_type": "markdown",
   "id": "a3d54fce",
   "metadata": {},
   "source": [
    "a for-loop is used for iterating over a sequence. a while-loop is used to run a block code until a certain condition is set."
   ]
  },
  {
   "cell_type": "markdown",
   "id": "a4726330",
   "metadata": {},
   "source": [
    "Describe what \"global i\" refers to in the following code, and how it differs from local i."
   ]
  },
  {
   "cell_type": "code",
   "execution_count": 19,
   "id": "2c17bb30",
   "metadata": {
    "scrolled": true
   },
   "outputs": [
    {
     "name": "stdout",
     "output_type": "stream",
     "text": [
      "2\n",
      "5\n",
      "5\n"
     ]
    }
   ],
   "source": [
    "i=2\n",
    "print(i)\n",
    "\n",
    "def nothing():\n",
    "    global i\n",
    "    i=5      \n",
    "    print(i)\n",
    "nothing()\n",
    "print(i)\n",
    "# global i refers to variables that arent difined inside a function and have a global scope. while, local are those defined inside of a function and their scope is limited.\n",
    "# in this case, i=2 is local because this function has a limited scope of 2. global i allows for the function to give another response, explore more possibilies than the original function."
   ]
  },
  {
   "cell_type": "markdown",
   "id": "99bbec99",
   "metadata": {},
   "source": [
    "Comment the following code."
   ]
  },
  {
   "cell_type": "code",
   "execution_count": 4,
   "id": "181d5fa6",
   "metadata": {},
   "outputs": [
    {
     "name": "stdout",
     "output_type": "stream",
     "text": [
      "[1, 1, 2, 3, 5, 8, 13, 21, 34, 55, 89]\n"
     ]
    }
   ],
   "source": [
    "a, b = 0, 1\n",
    "amax = 100\n",
    "L = []\n",
    "\n",
    "while True:\n",
    "    (a, b) = (b, a + b) #0,1 = 1, 0+1\n",
    "    if a > amax:\n",
    "        break\n",
    "    L.append(a)\n",
    "\n",
    "print(L)"
   ]
  },
  {
   "cell_type": "code",
   "execution_count": 1,
   "id": "89f95439",
   "metadata": {},
   "outputs": [],
   "source": [
    "# a, b = 0, 1\n",
    "# amax = 100\n",
    "# L = []\n",
    "\n",
    "# while True:\n",
    "    # (a, b) = (b, a + b) # 0,1 = 1, 0+1\n",
    "    # if a > amax:\n",
    "       # break\n",
    "   # L.append(a)\n",
    "\n",
    "# print(L)\n",
    "\n",
    "#COMMENTED THE CODE ABOVE"
   ]
  }
 ],
 "metadata": {
  "kernelspec": {
   "display_name": "Python 3 (ipykernel)",
   "language": "python",
   "name": "python3"
  },
  "language_info": {
   "codemirror_mode": {
    "name": "ipython",
    "version": 3
   },
   "file_extension": ".py",
   "mimetype": "text/x-python",
   "name": "python",
   "nbconvert_exporter": "python",
   "pygments_lexer": "ipython3",
   "version": "3.10.9"
  }
 },
 "nbformat": 4,
 "nbformat_minor": 5
}
